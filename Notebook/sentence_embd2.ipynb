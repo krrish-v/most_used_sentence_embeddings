{
  "nbformat": 4,
  "nbformat_minor": 0,
  "metadata": {
    "colab": {
      "provenance": []
    },
    "kernelspec": {
      "name": "python3",
      "display_name": "Python 3"
    },
    "language_info": {
      "name": "python"
    }
  },
  "cells": [
    {
      "cell_type": "markdown",
      "source": [
        "### ELMo Embeddings\n"
      ],
      "metadata": {
        "id": "aMw402mcbm5Z"
      }
    },
    {
      "cell_type": "markdown",
      "source": [
        "##### you should change the version of tensorflow as this model dosent work in tensorflow 2"
      ],
      "metadata": {
        "id": "yOj6u_nmhGcJ"
      }
    },
    {
      "cell_type": "code",
      "source": [
        "!pip install tensorflow==1.15\n",
        "!pip install tensorflow_hub>=0.6.0\n",
        "!pip3 install tensorflow_text==1.15"
      ],
      "metadata": {
        "id": "7T1T7EbChAeh"
      },
      "execution_count": null,
      "outputs": []
    },
    {
      "cell_type": "code",
      "source": [
        "!pip show tensorflow"
      ],
      "metadata": {
        "id": "N0U1sfJzozTb"
      },
      "execution_count": null,
      "outputs": []
    },
    {
      "cell_type": "code",
      "source": [
        "# you cannot use this command with tensorflow2\n",
        "\n",
        "%tensorflow_version 1.x"
      ],
      "metadata": {
        "id": "sOWIpTBfpLdu"
      },
      "execution_count": null,
      "outputs": []
    },
    {
      "cell_type": "code",
      "execution_count": 28,
      "metadata": {
        "id": "3JjKVXWzZ8iC"
      },
      "outputs": [],
      "source": [
        "import tensorflow_hub as hub\n",
        "import tqdm"
      ]
    },
    {
      "cell_type": "code",
      "source": [
        "# this only works with tensorflow version 1\n",
        "\n",
        "elmo = hub.Module(\"https://tfhub.dev/google/elmo/2\", trainable=True)\n"
      ],
      "metadata": {
        "id": "To3IqyCka6Sw"
      },
      "execution_count": null,
      "outputs": []
    },
    {
      "cell_type": "code",
      "source": [
        "x = [\"Roasted ants are a popular snack in Columbia\"]\n",
        "\n",
        "embeddings = elmo(x, signature=\"default\", as_dict=True)[\"elmo\"]"
      ],
      "metadata": {
        "id": "vVmzw5Tdf5m7"
      },
      "execution_count": null,
      "outputs": []
    },
    {
      "cell_type": "markdown",
      "source": [
        "### Electro Embeddings [a word embedding]"
      ],
      "metadata": {
        "id": "2U4gevcsulo6"
      }
    },
    {
      "cell_type": "markdown",
      "source": [
        "John Snow Labs NLU library gives you 1000+ NLP models and 100+ Word Embeddings in 300+ languages and infinite possibilities to explore your data and gain insights, its is nlu"
      ],
      "metadata": {
        "id": "O-OEhYOJugGy"
      }
    },
    {
      "cell_type": "code",
      "source": [
        "!pip install nlu\n",
        "!pip install pyspark"
      ],
      "metadata": {
        "id": "pulleTQpujkv"
      },
      "execution_count": null,
      "outputs": []
    },
    {
      "cell_type": "code",
      "source": [
        "import nlu\n",
        "\n",
        "model_electra = nlu.load('electra')"
      ],
      "metadata": {
        "id": "qtJcI9egxA2F"
      },
      "execution_count": null,
      "outputs": []
    },
    {
      "cell_type": "code",
      "source": [
        "\n",
        "electra_embd = model_electra.predict('Roasted ants are a popular snack in Columbia')"
      ],
      "metadata": {
        "id": "d7N4f7qBzXFe"
      },
      "execution_count": 56,
      "outputs": []
    },
    {
      "cell_type": "code",
      "source": [
        "import numpy as np\n",
        "\n",
        "electra_embd = np.array(electra_embd)\n",
        "electra_embd.shape"
      ],
      "metadata": {
        "colab": {
          "base_uri": "https://localhost:8080/"
        },
        "id": "lGmpTFq3z09c",
        "outputId": "818f964c-6b6b-4427-ec54-130b6026b3ee"
      },
      "execution_count": 59,
      "outputs": [
        {
          "output_type": "execute_result",
          "data": {
            "text/plain": [
              "(8, 2)"
            ]
          },
          "metadata": {},
          "execution_count": 59
        }
      ]
    },
    {
      "cell_type": "code",
      "source": [
        "electra_embd"
      ],
      "metadata": {
        "id": "lANdTfwE0LA2"
      },
      "execution_count": null,
      "outputs": []
    },
    {
      "cell_type": "markdown",
      "source": [
        "#### emotion recogniton with Electra"
      ],
      "metadata": {
        "id": "GoSLK_3m3JZv"
      }
    },
    {
      "cell_type": "markdown",
      "source": [
        "###### follow this guide- https://medium.com/spark-nlp/1-line-to-electra-word-embeddings-with-nlu-in-python-25f749bf3e92"
      ],
      "metadata": {
        "id": "ZD-zd-4l5LE6"
      }
    }
  ]
}