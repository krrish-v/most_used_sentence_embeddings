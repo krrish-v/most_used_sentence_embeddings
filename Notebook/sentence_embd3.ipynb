{
  "nbformat": 4,
  "nbformat_minor": 0,
  "metadata": {
    "colab": {
      "provenance": []
    },
    "kernelspec": {
      "name": "python3",
      "display_name": "Python 3"
    },
    "language_info": {
      "name": "python"
    }
  },
  "cells": [
    {
      "cell_type": "markdown",
      "source": [
        "### SimCSE"
      ],
      "metadata": {
        "id": "PlTuMyA69sv5"
      }
    },
    {
      "cell_type": "code",
      "execution_count": null,
      "metadata": {
        "id": "BTv9myGu8dqG"
      },
      "outputs": [],
      "source": [
        "!pip install simcse"
      ]
    },
    {
      "cell_type": "code",
      "source": [
        "from simcse import SimCSE\n",
        "model = SimCSE(\"princeton-nlp/sup-simcse-bert-base-uncased\")"
      ],
      "metadata": {
        "id": "mJTPSs0i87ny"
      },
      "execution_count": null,
      "outputs": []
    },
    {
      "cell_type": "code",
      "source": [
        "embeddings = model.encode(\"A woman is reading.\")"
      ],
      "metadata": {
        "id": "wW7r2aHs9sPk"
      },
      "execution_count": null,
      "outputs": []
    },
    {
      "cell_type": "code",
      "source": [
        "embeddings"
      ],
      "metadata": {
        "id": "6EWrOoeU94jR"
      },
      "execution_count": null,
      "outputs": []
    },
    {
      "cell_type": "markdown",
      "source": [
        "###### finding similarities between two sentences"
      ],
      "metadata": {
        "id": "aOpnocYE-Yx5"
      }
    },
    {
      "cell_type": "code",
      "source": [
        "sentences_a = ['A woman is reading.', 'A man is playing a guitar.']\n",
        "sentences_b = ['He plays guitar.', 'A woman is making a photo.']\n",
        "similarities = model.similarity(sentences_a, sentences_b)"
      ],
      "metadata": {
        "id": "f5NExBlq9-J6"
      },
      "execution_count": null,
      "outputs": []
    },
    {
      "cell_type": "markdown",
      "source": [
        "###### An another cool feature-"
      ],
      "metadata": {
        "id": "v3nq3xs3-iFz"
      }
    },
    {
      "cell_type": "code",
      "source": [
        "sentences = ['A woman is reading.', 'A man is playing a guitar.']\n",
        "model.build_index(sentences)\n",
        "results = model.search(\"He plays guitar.\")"
      ],
      "metadata": {
        "id": "xQ5hPKuA-LRJ"
      },
      "execution_count": null,
      "outputs": []
    },
    {
      "cell_type": "code",
      "source": [
        "results"
      ],
      "metadata": {
        "colab": {
          "base_uri": "https://localhost:8080/"
        },
        "id": "YvgrVq-A-T5k",
        "outputId": "5346a5d9-1ac0-4615-aa34-e24b4fcb258d"
      },
      "execution_count": 11,
      "outputs": [
        {
          "output_type": "execute_result",
          "data": {
            "text/plain": [
              "[('A man is playing a guitar.', 0.8938425183296204)]"
            ]
          },
          "metadata": {},
          "execution_count": 11
        }
      ]
    },
    {
      "cell_type": "markdown",
      "source": [
        "###### for more follow this guide- https://github.com/princeton-nlp/SimCSE"
      ],
      "metadata": {
        "id": "GoDnKZIJ-xIl"
      }
    }
  ]
}