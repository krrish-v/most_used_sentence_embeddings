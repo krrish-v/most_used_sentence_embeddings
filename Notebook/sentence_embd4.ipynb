{
  "nbformat": 4,
  "nbformat_minor": 0,
  "metadata": {
    "colab": {
      "provenance": []
    },
    "kernelspec": {
      "name": "python3",
      "display_name": "Python 3"
    },
    "language_info": {
      "name": "python"
    }
  },
  "cells": [
    {
      "cell_type": "markdown",
      "source": [
        "Performing vecotization on almost all Indian Languages"
      ],
      "metadata": {
        "id": "SaRDsacOEdDn"
      }
    },
    {
      "cell_type": "code",
      "execution_count": null,
      "metadata": {
        "id": "eMwzOkZYDE3c"
      },
      "outputs": [],
      "source": [
        "!pip install inltk\n",
        "!pip install torch==1.3.1+cpu -f https://download.pytorch.org/whl/torch_stable.html"
      ]
    },
    {
      "cell_type": "code",
      "source": [
        "import inltk"
      ],
      "metadata": {
        "id": "vJIjNU7NDNn6"
      },
      "execution_count": 3,
      "outputs": []
    },
    {
      "cell_type": "code",
      "source": [
        "from inltk.inltk import setup\n",
        "setup('hi')"
      ],
      "metadata": {
        "id": "X7Ylt-HdDQ8D"
      },
      "execution_count": null,
      "outputs": []
    },
    {
      "cell_type": "code",
      "source": [
        "text = 'अमिताभ बॉलीवुड का कोई किस्सा नहीं हैं, एक मुकम्मल चैप्टर हैं। इस चैप्टर में कई कहानियां हैं। कुछ बहुत सुनी-सुनाई और कुछ अनसुनी सी। 110 साल के इंडियन सिनेमा में 50 साल अमिताभ के हैं।'"
      ],
      "metadata": {
        "id": "uCTv2xl5Dc42"
      },
      "execution_count": 5,
      "outputs": []
    },
    {
      "cell_type": "code",
      "source": [
        "from inltk.inltk import get_sentence_encoding\n",
        "\n",
        "vectors = get_sentence_encoding(text, 'hi')\n",
        "\n",
        "vectors.shape"
      ],
      "metadata": {
        "id": "ySRxws8IDYqB"
      },
      "execution_count": null,
      "outputs": []
    },
    {
      "cell_type": "code",
      "source": [
        "vectors"
      ],
      "metadata": {
        "colab": {
          "base_uri": "https://localhost:8080/"
        },
        "id": "0BeQrTcFEGOL",
        "outputId": "f8ec43ab-2222-4d98-bc3d-4fea5c0f4da4"
      },
      "execution_count": 8,
      "outputs": [
        {
          "output_type": "execute_result",
          "data": {
            "text/plain": [
              "array([ 0.118016, -0.019872,  0.03192 , -0.46597 , ...,  0.17669 , -0.096054, -0.128432,  0.075686], dtype=float32)"
            ]
          },
          "metadata": {},
          "execution_count": 8
        }
      ]
    },
    {
      "cell_type": "markdown",
      "source": [
        "###### for more guide follow - https://inltk.readthedocs.io/en/latest/api_docs.html\n"
      ],
      "metadata": {
        "id": "4u5nwM93ERW1"
      }
    }
  ]
}